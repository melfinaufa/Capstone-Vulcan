{
 "cells": [
  {
   "cell_type": "markdown",
   "metadata": {},
   "source": [
    "# Capstone Webscrapping using BeautifulSoup\n",
    "\n",
    "This notebook contains guidances & tasks on the data processing for the application\n",
    "\n",
    "## Background\n",
    "\n",
    "\n",
    "At this data analytics capstone project I try to scrap US Dollar exchange rate data to rupiah from https://www.exchange-rates.org/history/IDR/USD/T. I will try to scrap this sites for educational purpose only to get the final value of the data analytic course.\n",
    "\n",
    "The data available on the website is a time series data consisting of 2 columns, namely Date and USD to IDR. As for the time span, that is for approximately 6 months, starting from 12-October-2022 to 7-April-2023. However, on the website there are several missed dates due to holidays/weekends so there is no activity. Therefore, it is necessary to apply Exploratiry Data Analysis to help fill in values from date data that are empty/missing value in the data.\n",
    "\n",
    "After the EDA process was carried out to get insight from the data on the movement of the dollar to rupiah exchange rate, a plot was made for visualizing the data to make it easier to take insights.\n",
    "\n",
    "\n",
    "## Requesting the Data and Creating a BeautifulSoup\n",
    "\n",
    "Let's begin with requesting the web from the site with `get` method."
   ]
  },
  {
   "cell_type": "code",
   "execution_count": 54,
   "metadata": {
    "ExecuteTime": {
     "end_time": "2020-01-13T05:12:23.275508Z",
     "start_time": "2020-01-13T05:12:20.009898Z"
    }
   },
   "outputs": [],
   "source": [
    "import requests\n",
    "\n",
    "url_get = requests.get('https://www.exchange-rates.org/history/IDR/USD/T')"
   ]
  },
  {
   "cell_type": "markdown",
   "metadata": {},
   "source": [
    "To visualize what exactly you get from the `request.get`, we can use .content so ee what we exactly get, in here i slice it so it won't make our screen full of the html we get from the page. You can delete the slicing if you want to see what we fully get."
   ]
  },
  {
   "cell_type": "code",
   "execution_count": 55,
   "metadata": {
    "ExecuteTime": {
     "end_time": "2020-01-13T05:12:23.290648Z",
     "start_time": "2020-01-13T05:12:23.277650Z"
    }
   },
   "outputs": [
    {
     "data": {
      "text/plain": [
       "b'!DOCTYPE html>\\r\\n<!--[if lt IE 9]>\\r\\n<html class=\"no-js ie8 oldie\" lang=\"en\" xml:lang=\\'en\\'>\\r\\n<![endif]-->\\r\\n<!--[if gt IE 8]><!--><html class=\"no-js\" lang=\"en\" xml:lang=\\'en\\'><!--<![endif]-->\\r\\n<head>\\r\\n<title>USD to IDR exchange rate history</title>\\r\\n<meta http-equiv=\"X-UA-Compatible\" content=\"IE=edge\">\\r\\n<meta name=\"viewport\" content=\"width=device-width, initial-scale=1, maximum-scale=5\">\\r\\n<meta charset=\"utf-8\" /><meta http-equiv=\"Content-Type\" content=\"text/html; charset=utf-8\" />\\r\\n<base href=\"http'"
      ]
     },
     "execution_count": 55,
     "metadata": {},
     "output_type": "execute_result"
    }
   ],
   "source": [
    "url_get.content[1:500]"
   ]
  },
  {
   "cell_type": "markdown",
   "metadata": {},
   "source": [
    "As we can see we get a very unstructured and complex html, which actually contains the codes needed to show the webpages on your web browser. But we as human still confused what and where we can use that piece of code, so here where we use the beautifulsoup. Beautiful soup class will result a beautifulsoup object. Beautiful Soup transforms a complex HTML document into a complex tree of Python objects. \n",
    "\n",
    "Let's make Beautiful soup object and feel free to explore the object here."
   ]
  },
  {
   "cell_type": "code",
   "execution_count": 56,
   "metadata": {
    "ExecuteTime": {
     "end_time": "2020-01-13T05:12:23.808122Z",
     "start_time": "2020-01-13T05:12:23.292610Z"
    }
   },
   "outputs": [],
   "source": [
    "from bs4 import BeautifulSoup \n",
    "\n",
    "soup = BeautifulSoup(url_get.content,\"html.parser\")"
   ]
  },
  {
   "cell_type": "markdown",
   "metadata": {},
   "source": [
    "## Finding the right key to scrap the data & Extracting the right information"
   ]
  },
  {
   "cell_type": "markdown",
   "metadata": {},
   "source": [
    "Find the key and put the key into the `.find()` Put all the exploring the right key at this cell. (please change this markdown with your explanation)"
   ]
  },
  {
   "cell_type": "code",
   "execution_count": 57,
   "metadata": {
    "ExecuteTime": {
     "end_time": "2020-01-13T05:12:23.878904Z",
     "start_time": "2020-01-13T05:12:23.854974Z"
    }
   },
   "outputs": [
    {
     "name": "stdout",
     "output_type": "stream",
     "text": [
      "tbody>\n",
      " <tr>\n",
      "  <td>\n",
      "   <a class=\"w\" href=\"/exchange-rate-history/usd-idr-2023-04-11\">\n",
      "    April 11, 2023\n",
      "   </a>\n",
      "   <a class=\"n\" href=\"/exchange-rate-history/usd-idr-2023-04-11\">\n",
      "    2023-4-11\n",
      "   </a>\n",
      "  </td>\n",
      "  <td>\n",
      "   <span class=\"w\">\n",
      "    <span class=\"nowrap\">\n",
      "     <span class=\"currencySymbol\">\n",
      "      $\n",
      "     </span>\n",
      "     1 =\n",
      "    </span>\n",
      "    <span class=\"nowrap\">\n",
      "     <span class=\"currencySymbol\">\n",
      "      Rp\n",
      "     </span>\n",
      "     14,915\n",
      "    </span>\n",
      "   </span>\n",
      "   <span class=\"n\">\n",
      "    <span class=\"nowra\n"
     ]
    }
   ],
   "source": [
    "table = soup.find('tbody')\n",
    "print(table.prettify()[1:500])"
   ]
  },
  {
   "cell_type": "markdown",
   "metadata": {},
   "source": [
    "### Define Column/Variable"
   ]
  },
  {
   "cell_type": "markdown",
   "metadata": {},
   "source": [
    "**1. Date**"
   ]
  },
  {
   "cell_type": "code",
   "execution_count": 58,
   "metadata": {
    "scrolled": true
   },
   "outputs": [
    {
     "data": {
      "text/plain": [
       "[<a class=\"w\" href=\"/exchange-rate-history/usd-idr-2023-04-11\">April 11, 2023</a>,\n",
       " <a class=\"w\" href=\"/exchange-rate-history/usd-idr-2023-04-10\">April 10, 2023</a>,\n",
       " <a class=\"w\" href=\"/exchange-rate-history/usd-idr-2023-04-07\">April 7, 2023</a>,\n",
       " <a class=\"w\" href=\"/exchange-rate-history/usd-idr-2023-04-06\">April 6, 2023</a>,\n",
       " <a class=\"w\" href=\"/exchange-rate-history/usd-idr-2023-04-05\">April 5, 2023</a>]"
      ]
     },
     "execution_count": 58,
     "metadata": {},
     "output_type": "execute_result"
    }
   ],
   "source": [
    "table.find_all('a', attrs={'class':'w'})[:5]"
   ]
  },
  {
   "cell_type": "code",
   "execution_count": 59,
   "metadata": {
    "scrolled": false
   },
   "outputs": [
    {
     "data": {
      "text/plain": [
       "'April 11, 2023'"
      ]
     },
     "execution_count": 59,
     "metadata": {},
     "output_type": "execute_result"
    }
   ],
   "source": [
    "table.find_all('a', attrs={'class':'w'})[0].text"
   ]
  },
  {
   "cell_type": "markdown",
   "metadata": {},
   "source": [
    "**2. Price**"
   ]
  },
  {
   "cell_type": "code",
   "execution_count": 60,
   "metadata": {},
   "outputs": [
    {
     "data": {
      "text/plain": [
       "[<span class=\"w\"><span class=\"nowrap\"><span class=\"currencySymbol\">$</span>1 =</span> <span class=\"nowrap\"><span class=\"currencySymbol\">Rp</span>14,915</span></span>,\n",
       " <span class=\"w\"><span class=\"nowrap\"><span class=\"currencySymbol\">$</span>1 =</span> <span class=\"nowrap\"><span class=\"currencySymbol\">Rp</span>14,950</span></span>,\n",
       " <span class=\"w\"><span class=\"nowrap\"><span class=\"currencySymbol\">$</span>1 =</span> <span class=\"nowrap\"><span class=\"currencySymbol\">Rp</span>14,941</span></span>,\n",
       " <span class=\"w\"><span class=\"nowrap\"><span class=\"currencySymbol\">$</span>1 =</span> <span class=\"nowrap\"><span class=\"currencySymbol\">Rp</span>14,931</span></span>,\n",
       " <span class=\"w\"><span class=\"nowrap\"><span class=\"currencySymbol\">$</span>1 =</span> <span class=\"nowrap\"><span class=\"currencySymbol\">Rp</span>14,960</span></span>]"
      ]
     },
     "execution_count": 60,
     "metadata": {},
     "output_type": "execute_result"
    }
   ],
   "source": [
    "table.find_all('span', attrs={'class':'w'})[:5]"
   ]
  },
  {
   "cell_type": "code",
   "execution_count": 61,
   "metadata": {},
   "outputs": [
    {
     "data": {
      "text/plain": [
       "'$1 = Rp14,915'"
      ]
     },
     "execution_count": 61,
     "metadata": {},
     "output_type": "execute_result"
    }
   ],
   "source": [
    "table.find_all('span', attrs={'class':'w'})[0].text"
   ]
  },
  {
   "cell_type": "markdown",
   "metadata": {},
   "source": [
    "### Finding row length"
   ]
  },
  {
   "cell_type": "code",
   "execution_count": 62,
   "metadata": {},
   "outputs": [
    {
     "data": {
      "text/plain": [
       "129"
      ]
     },
     "execution_count": 62,
     "metadata": {},
     "output_type": "execute_result"
    }
   ],
   "source": [
    "row = table.find_all('a', attrs={'class':'w'})\n",
    "row_length = len(row)\n",
    "row_length"
   ]
  },
  {
   "cell_type": "markdown",
   "metadata": {},
   "source": [
    "#### Do the scrapping process here (please change this markdown with your explanation)"
   ]
  },
  {
   "cell_type": "code",
   "execution_count": 63,
   "metadata": {
    "ExecuteTime": {
     "end_time": "2020-01-13T05:12:24.008256Z",
     "start_time": "2020-01-13T05:12:23.980358Z"
    }
   },
   "outputs": [
    {
     "data": {
      "text/plain": [
       "[('April 10, 2023', '14,950'),\n",
       " ('April 7, 2023', '14,941'),\n",
       " ('April 6, 2023', '14,931'),\n",
       " ('April 5, 2023', '14,960'),\n",
       " ('April 4, 2023', '14,957'),\n",
       " ('April 3, 2023', '14,922'),\n",
       " ('March 31, 2023', '14,969'),\n",
       " ('March 30, 2023', '15,024'),\n",
       " ('March 29, 2023', '15,034'),\n",
       " ('March 28, 2023', '15,060'),\n",
       " ('March 27, 2023', '15,107'),\n",
       " ('March 24, 2023', '15,165'),\n",
       " ('March 23, 2023', '15,085'),\n",
       " ('March 22, 2023', '15,253'),\n",
       " ('March 21, 2023', '15,301'),\n",
       " ('March 20, 2023', '15,343'),\n",
       " ('March 17, 2023', '15,375'),\n",
       " ('March 16, 2023', '15,429'),\n",
       " ('March 15, 2023', '15,459'),\n",
       " ('March 14, 2023', '15,380'),\n",
       " ('March 13, 2023', '15,416'),\n",
       " ('March 10, 2023', '15,503'),\n",
       " ('March 9, 2023', '15,495'),\n",
       " ('March 8, 2023', '15,449'),\n",
       " ('March 7, 2023', '15,429'),\n",
       " ('March 6, 2023', '15,354'),\n",
       " ('March 3, 2023', '15,278'),\n",
       " ('March 2, 2023', '15,322'),\n",
       " ('March 1, 2023', '15,249'),\n",
       " ('February 28, 2023', '15,241'),\n",
       " ('February 27, 2023', '15,216'),\n",
       " ('February 24, 2023', '15,265'),\n",
       " ('February 23, 2023', '15,211'),\n",
       " ('February 22, 2023', '15,197'),\n",
       " ('February 21, 2023', '15,235'),\n",
       " ('February 20, 2023', '15,168'),\n",
       " ('February 17, 2023', '15,166'),\n",
       " ('February 16, 2023', '15,144'),\n",
       " ('February 15, 2023', '15,205'),\n",
       " ('February 14, 2023', '15,186'),\n",
       " ('February 13, 2023', '15,216'),\n",
       " ('February 10, 2023', '15,188'),\n",
       " ('February 9, 2023', '15,147'),\n",
       " ('February 8, 2023', '15,133'),\n",
       " ('February 7, 2023', '15,154'),\n",
       " ('February 6, 2023', '15,198'),\n",
       " ('February 3, 2023', '15,095'),\n",
       " ('February 2, 2023', '14,907'),\n",
       " ('February 1, 2023', '14,896'),\n",
       " ('January 31, 2023', '15,002'),\n",
       " ('January 30, 2023', '15,013'),\n",
       " ('January 27, 2023', '14,973'),\n",
       " ('January 26, 2023', '14,955'),\n",
       " ('January 25, 2023', '14,940'),\n",
       " ('January 24, 2023', '14,956'),\n",
       " ('January 23, 2023', '15,026'),\n",
       " ('January 20, 2023', '15,063'),\n",
       " ('January 19, 2023', '15,154'),\n",
       " ('January 18, 2023', '15,138'),\n",
       " ('January 17, 2023', '15,180'),\n",
       " ('January 16, 2023', '15,126'),\n",
       " ('January 13, 2023', '15,115'),\n",
       " ('January 12, 2023', '15,206'),\n",
       " ('January 11, 2023', '15,432'),\n",
       " ('January 10, 2023', '15,536'),\n",
       " ('January 9, 2023', '15,596'),\n",
       " ('January 6, 2023', '15,607'),\n",
       " ('January 5, 2023', '15,635'),\n",
       " ('January 4, 2023', '15,582'),\n",
       " ('January 3, 2023', '15,594'),\n",
       " ('January 2, 2023', '15,554'),\n",
       " ('December 30, 2022', '15,534'),\n",
       " ('December 29, 2022', '15,627'),\n",
       " ('December 28, 2022', '15,789'),\n",
       " ('December 27, 2022', '15,620'),\n",
       " ('December 26, 2022', '15,621'),\n",
       " ('December 23, 2022', '15,582'),\n",
       " ('December 22, 2022', '15,574'),\n",
       " ('December 21, 2022', '15,540'),\n",
       " ('December 20, 2022', '15,564'),\n",
       " ('December 19, 2022', '15,568'),\n",
       " ('December 16, 2022', '15,616'),\n",
       " ('December 15, 2022', '15,629'),\n",
       " ('December 14, 2022', '15,543'),\n",
       " ('December 13, 2022', '15,560'),\n",
       " ('December 12, 2022', '15,676'),\n",
       " ('December 9, 2022', '15,604'),\n",
       " ('December 8, 2022', '15,594'),\n",
       " ('December 7, 2022', '15,612'),\n",
       " ('December 6, 2022', '15,625'),\n",
       " ('December 5, 2022', '15,520'),\n",
       " ('December 2, 2022', '15,376'),\n",
       " ('December 1, 2022', '15,389'),\n",
       " ('November 30, 2022', '15,633'),\n",
       " ('November 29, 2022', '15,734'),\n",
       " ('November 28, 2022', '15,743'),\n",
       " ('November 25, 2022', '15,693'),\n",
       " ('November 24, 2022', '15,647'),\n",
       " ('November 23, 2022', '15,626'),\n",
       " ('November 22, 2022', '15,664'),\n",
       " ('November 21, 2022', '15,741'),\n",
       " ('November 18, 2022', '15,641'),\n",
       " ('November 17, 2022', '15,714'),\n",
       " ('November 16, 2022', '15,639'),\n",
       " ('November 15, 2022', '15,557'),\n",
       " ('November 14, 2022', '15,554'),\n",
       " ('November 11, 2022', '15,474'),\n",
       " ('November 10, 2022', '15,520'),\n",
       " ('November 9, 2022', '15,692'),\n",
       " ('November 8, 2022', '15,638'),\n",
       " ('November 7, 2022', '15,685'),\n",
       " ('November 4, 2022', '15,615'),\n",
       " ('November 3, 2022', '15,790'),\n",
       " ('November 2, 2022', '15,685'),\n",
       " ('November 1, 2022', '15,674'),\n",
       " ('October 31, 2022', '15,624'),\n",
       " ('October 28, 2022', '15,557'),\n",
       " ('October 27, 2022', '15,560'),\n",
       " ('October 26, 2022', '15,503'),\n",
       " ('October 25, 2022', '15,533'),\n",
       " ('October 24, 2022', '15,598'),\n",
       " ('October 21, 2022', '15,537'),\n",
       " ('October 20, 2022', '15,562'),\n",
       " ('October 19, 2022', '15,587'),\n",
       " ('October 18, 2022', '15,474'),\n",
       " ('October 17, 2022', '15,441'),\n",
       " ('October 14, 2022', '15,472'),\n",
       " ('October 13, 2022', '15,372')]"
      ]
     },
     "execution_count": 63,
     "metadata": {},
     "output_type": "execute_result"
    }
   ],
   "source": [
    "temp = [] #initiating a tuple\n",
    "\n",
    "\n",
    "for i in range(1, row_length):\n",
    "\n",
    "    #scrapping process\n",
    "    #get date \n",
    "    date = table.find_all('a', attrs={'class':'w'})[i].text\n",
    "    \n",
    "    #get price\n",
    "    price = table.find_all('span', attrs={'class':'w'})[i].text\n",
    "    price = price.strip().replace('$1 = Rp','')#to remove excess white space and symbols, sehingga menjadi angka\n",
    "    \n",
    "    \n",
    "    temp.append((date,price)) \n",
    "    \n",
    "temp "
   ]
  },
  {
   "cell_type": "markdown",
   "metadata": {},
   "source": [
    "## Creating data frame & Data wrangling"
   ]
  },
  {
   "cell_type": "markdown",
   "metadata": {},
   "source": [
    "Put the array into dataframe"
   ]
  },
  {
   "cell_type": "code",
   "execution_count": 64,
   "metadata": {
    "ExecuteTime": {
     "end_time": "2020-01-13T05:12:41.517372Z",
     "start_time": "2020-01-13T05:12:29.130015Z"
    },
    "scrolled": true
   },
   "outputs": [
    {
     "data": {
      "text/html": [
       "<div>\n",
       "<style scoped>\n",
       "    .dataframe tbody tr th:only-of-type {\n",
       "        vertical-align: middle;\n",
       "    }\n",
       "\n",
       "    .dataframe tbody tr th {\n",
       "        vertical-align: top;\n",
       "    }\n",
       "\n",
       "    .dataframe thead th {\n",
       "        text-align: right;\n",
       "    }\n",
       "</style>\n",
       "<table border=\"1\" class=\"dataframe\">\n",
       "  <thead>\n",
       "    <tr style=\"text-align: right;\">\n",
       "      <th></th>\n",
       "      <th>Dolar to Rupiah</th>\n",
       "    </tr>\n",
       "    <tr>\n",
       "      <th>Date</th>\n",
       "      <th></th>\n",
       "    </tr>\n",
       "  </thead>\n",
       "  <tbody>\n",
       "    <tr>\n",
       "      <th>April 10, 2023</th>\n",
       "      <td>14,950</td>\n",
       "    </tr>\n",
       "    <tr>\n",
       "      <th>April 7, 2023</th>\n",
       "      <td>14,941</td>\n",
       "    </tr>\n",
       "    <tr>\n",
       "      <th>April 6, 2023</th>\n",
       "      <td>14,931</td>\n",
       "    </tr>\n",
       "    <tr>\n",
       "      <th>April 5, 2023</th>\n",
       "      <td>14,960</td>\n",
       "    </tr>\n",
       "    <tr>\n",
       "      <th>April 4, 2023</th>\n",
       "      <td>14,957</td>\n",
       "    </tr>\n",
       "    <tr>\n",
       "      <th>...</th>\n",
       "      <td>...</td>\n",
       "    </tr>\n",
       "    <tr>\n",
       "      <th>October 19, 2022</th>\n",
       "      <td>15,587</td>\n",
       "    </tr>\n",
       "    <tr>\n",
       "      <th>October 18, 2022</th>\n",
       "      <td>15,474</td>\n",
       "    </tr>\n",
       "    <tr>\n",
       "      <th>October 17, 2022</th>\n",
       "      <td>15,441</td>\n",
       "    </tr>\n",
       "    <tr>\n",
       "      <th>October 14, 2022</th>\n",
       "      <td>15,472</td>\n",
       "    </tr>\n",
       "    <tr>\n",
       "      <th>October 13, 2022</th>\n",
       "      <td>15,372</td>\n",
       "    </tr>\n",
       "  </tbody>\n",
       "</table>\n",
       "<p>128 rows × 1 columns</p>\n",
       "</div>"
      ],
      "text/plain": [
       "                 Dolar to Rupiah\n",
       "Date                            \n",
       "April 10, 2023            14,950\n",
       "April 7, 2023             14,941\n",
       "April 6, 2023             14,931\n",
       "April 5, 2023             14,960\n",
       "April 4, 2023             14,957\n",
       "...                          ...\n",
       "October 19, 2022          15,587\n",
       "October 18, 2022          15,474\n",
       "October 17, 2022          15,441\n",
       "October 14, 2022          15,472\n",
       "October 13, 2022          15,372\n",
       "\n",
       "[128 rows x 1 columns]"
      ]
     },
     "execution_count": 64,
     "metadata": {},
     "output_type": "execute_result"
    }
   ],
   "source": [
    "import pandas as pd\n",
    "\n",
    "df = pd.DataFrame(temp, columns = ('Date','Dolar to Rupiah'))\n",
    "df.set_index('Date')"
   ]
  },
  {
   "cell_type": "code",
   "execution_count": 65,
   "metadata": {},
   "outputs": [
    {
     "data": {
      "text/plain": [
       "Date               object\n",
       "Dolar to Rupiah    object\n",
       "dtype: object"
      ]
     },
     "execution_count": 65,
     "metadata": {},
     "output_type": "execute_result"
    }
   ],
   "source": [
    "#Check Type Data\n",
    "df.dtypes"
   ]
  },
  {
   "cell_type": "markdown",
   "metadata": {},
   "source": [
    "Do the data cleaning here (please change this markdown with your explanation of what you do for data wrangling)"
   ]
  },
  {
   "cell_type": "code",
   "execution_count": 66,
   "metadata": {
    "scrolled": true
   },
   "outputs": [
    {
     "data": {
      "text/html": [
       "<div>\n",
       "<style scoped>\n",
       "    .dataframe tbody tr th:only-of-type {\n",
       "        vertical-align: middle;\n",
       "    }\n",
       "\n",
       "    .dataframe tbody tr th {\n",
       "        vertical-align: top;\n",
       "    }\n",
       "\n",
       "    .dataframe thead th {\n",
       "        text-align: right;\n",
       "    }\n",
       "</style>\n",
       "<table border=\"1\" class=\"dataframe\">\n",
       "  <thead>\n",
       "    <tr style=\"text-align: right;\">\n",
       "      <th></th>\n",
       "      <th>Date</th>\n",
       "      <th>Dolar to Rupiah</th>\n",
       "    </tr>\n",
       "  </thead>\n",
       "  <tbody>\n",
       "    <tr>\n",
       "      <th>0</th>\n",
       "      <td>2023-04-10</td>\n",
       "      <td>14.950</td>\n",
       "    </tr>\n",
       "    <tr>\n",
       "      <th>1</th>\n",
       "      <td>2023-04-07</td>\n",
       "      <td>14.941</td>\n",
       "    </tr>\n",
       "    <tr>\n",
       "      <th>2</th>\n",
       "      <td>2023-04-06</td>\n",
       "      <td>14.931</td>\n",
       "    </tr>\n",
       "    <tr>\n",
       "      <th>3</th>\n",
       "      <td>2023-04-05</td>\n",
       "      <td>14.960</td>\n",
       "    </tr>\n",
       "    <tr>\n",
       "      <th>4</th>\n",
       "      <td>2023-04-04</td>\n",
       "      <td>14.957</td>\n",
       "    </tr>\n",
       "    <tr>\n",
       "      <th>...</th>\n",
       "      <td>...</td>\n",
       "      <td>...</td>\n",
       "    </tr>\n",
       "    <tr>\n",
       "      <th>123</th>\n",
       "      <td>2022-10-19</td>\n",
       "      <td>15.587</td>\n",
       "    </tr>\n",
       "    <tr>\n",
       "      <th>124</th>\n",
       "      <td>2022-10-18</td>\n",
       "      <td>15.474</td>\n",
       "    </tr>\n",
       "    <tr>\n",
       "      <th>125</th>\n",
       "      <td>2022-10-17</td>\n",
       "      <td>15.441</td>\n",
       "    </tr>\n",
       "    <tr>\n",
       "      <th>126</th>\n",
       "      <td>2022-10-14</td>\n",
       "      <td>15.472</td>\n",
       "    </tr>\n",
       "    <tr>\n",
       "      <th>127</th>\n",
       "      <td>2022-10-13</td>\n",
       "      <td>15.372</td>\n",
       "    </tr>\n",
       "  </tbody>\n",
       "</table>\n",
       "<p>128 rows × 2 columns</p>\n",
       "</div>"
      ],
      "text/plain": [
       "          Date  Dolar to Rupiah\n",
       "0   2023-04-10           14.950\n",
       "1   2023-04-07           14.941\n",
       "2   2023-04-06           14.931\n",
       "3   2023-04-05           14.960\n",
       "4   2023-04-04           14.957\n",
       "..         ...              ...\n",
       "123 2022-10-19           15.587\n",
       "124 2022-10-18           15.474\n",
       "125 2022-10-17           15.441\n",
       "126 2022-10-14           15.472\n",
       "127 2022-10-13           15.372\n",
       "\n",
       "[128 rows x 2 columns]"
      ]
     },
     "execution_count": 66,
     "metadata": {},
     "output_type": "execute_result"
    }
   ],
   "source": [
    "# Change Type Data\n",
    "\n",
    "df['Date'] = df['Date'].astype('datetime64')\n",
    "df['Dolar to Rupiah'] = df['Dolar to Rupiah'].str.replace(',','.')\n",
    "df['Dolar to Rupiah'] = df['Dolar to Rupiah'].astype('float64')\n",
    "\n",
    "df"
   ]
  },
  {
   "cell_type": "code",
   "execution_count": 67,
   "metadata": {
    "scrolled": true
   },
   "outputs": [
    {
     "data": {
      "text/plain": [
       "Date               datetime64[ns]\n",
       "Dolar to Rupiah           float64\n",
       "dtype: object"
      ]
     },
     "execution_count": 67,
     "metadata": {},
     "output_type": "execute_result"
    }
   ],
   "source": [
    "df.dtypes"
   ]
  },
  {
   "cell_type": "code",
   "execution_count": 68,
   "metadata": {
    "scrolled": false
   },
   "outputs": [
    {
     "data": {
      "text/html": [
       "<div>\n",
       "<style scoped>\n",
       "    .dataframe tbody tr th:only-of-type {\n",
       "        vertical-align: middle;\n",
       "    }\n",
       "\n",
       "    .dataframe tbody tr th {\n",
       "        vertical-align: top;\n",
       "    }\n",
       "\n",
       "    .dataframe thead th {\n",
       "        text-align: right;\n",
       "    }\n",
       "</style>\n",
       "<table border=\"1\" class=\"dataframe\">\n",
       "  <thead>\n",
       "    <tr style=\"text-align: right;\">\n",
       "      <th></th>\n",
       "      <th>Date</th>\n",
       "      <th>Dolar to Rupiah</th>\n",
       "    </tr>\n",
       "  </thead>\n",
       "  <tbody>\n",
       "    <tr>\n",
       "      <th>0</th>\n",
       "      <td>2023-04-10</td>\n",
       "      <td>14.950</td>\n",
       "    </tr>\n",
       "    <tr>\n",
       "      <th>1</th>\n",
       "      <td>2023-04-07</td>\n",
       "      <td>14.941</td>\n",
       "    </tr>\n",
       "    <tr>\n",
       "      <th>2</th>\n",
       "      <td>2023-04-06</td>\n",
       "      <td>14.931</td>\n",
       "    </tr>\n",
       "    <tr>\n",
       "      <th>3</th>\n",
       "      <td>2023-04-05</td>\n",
       "      <td>14.960</td>\n",
       "    </tr>\n",
       "    <tr>\n",
       "      <th>4</th>\n",
       "      <td>2023-04-04</td>\n",
       "      <td>14.957</td>\n",
       "    </tr>\n",
       "    <tr>\n",
       "      <th>...</th>\n",
       "      <td>...</td>\n",
       "      <td>...</td>\n",
       "    </tr>\n",
       "    <tr>\n",
       "      <th>123</th>\n",
       "      <td>2022-10-19</td>\n",
       "      <td>15.587</td>\n",
       "    </tr>\n",
       "    <tr>\n",
       "      <th>124</th>\n",
       "      <td>2022-10-18</td>\n",
       "      <td>15.474</td>\n",
       "    </tr>\n",
       "    <tr>\n",
       "      <th>125</th>\n",
       "      <td>2022-10-17</td>\n",
       "      <td>15.441</td>\n",
       "    </tr>\n",
       "    <tr>\n",
       "      <th>126</th>\n",
       "      <td>2022-10-14</td>\n",
       "      <td>15.472</td>\n",
       "    </tr>\n",
       "    <tr>\n",
       "      <th>127</th>\n",
       "      <td>2022-10-13</td>\n",
       "      <td>15.372</td>\n",
       "    </tr>\n",
       "  </tbody>\n",
       "</table>\n",
       "<p>128 rows × 2 columns</p>\n",
       "</div>"
      ],
      "text/plain": [
       "          Date  Dolar to Rupiah\n",
       "0   2023-04-10           14.950\n",
       "1   2023-04-07           14.941\n",
       "2   2023-04-06           14.931\n",
       "3   2023-04-05           14.960\n",
       "4   2023-04-04           14.957\n",
       "..         ...              ...\n",
       "123 2022-10-19           15.587\n",
       "124 2022-10-18           15.474\n",
       "125 2022-10-17           15.441\n",
       "126 2022-10-14           15.472\n",
       "127 2022-10-13           15.372\n",
       "\n",
       "[128 rows x 2 columns]"
      ]
     },
     "execution_count": 68,
     "metadata": {},
     "output_type": "execute_result"
    }
   ],
   "source": [
    "df"
   ]
  },
  {
   "cell_type": "markdown",
   "metadata": {},
   "source": [
    "Set index for the new variable"
   ]
  },
  {
   "cell_type": "code",
   "execution_count": 70,
   "metadata": {
    "scrolled": true
   },
   "outputs": [
    {
     "data": {
      "text/html": [
       "<div>\n",
       "<style scoped>\n",
       "    .dataframe tbody tr th:only-of-type {\n",
       "        vertical-align: middle;\n",
       "    }\n",
       "\n",
       "    .dataframe tbody tr th {\n",
       "        vertical-align: top;\n",
       "    }\n",
       "\n",
       "    .dataframe thead th {\n",
       "        text-align: right;\n",
       "    }\n",
       "</style>\n",
       "<table border=\"1\" class=\"dataframe\">\n",
       "  <thead>\n",
       "    <tr style=\"text-align: right;\">\n",
       "      <th></th>\n",
       "      <th>Dolar to Rupiah</th>\n",
       "    </tr>\n",
       "    <tr>\n",
       "      <th>Date</th>\n",
       "      <th></th>\n",
       "    </tr>\n",
       "  </thead>\n",
       "  <tbody>\n",
       "    <tr>\n",
       "      <th>2023-04-10</th>\n",
       "      <td>14.950</td>\n",
       "    </tr>\n",
       "    <tr>\n",
       "      <th>2023-04-07</th>\n",
       "      <td>14.941</td>\n",
       "    </tr>\n",
       "    <tr>\n",
       "      <th>2023-04-06</th>\n",
       "      <td>14.931</td>\n",
       "    </tr>\n",
       "    <tr>\n",
       "      <th>2023-04-05</th>\n",
       "      <td>14.960</td>\n",
       "    </tr>\n",
       "    <tr>\n",
       "      <th>2023-04-04</th>\n",
       "      <td>14.957</td>\n",
       "    </tr>\n",
       "    <tr>\n",
       "      <th>...</th>\n",
       "      <td>...</td>\n",
       "    </tr>\n",
       "    <tr>\n",
       "      <th>2022-10-19</th>\n",
       "      <td>15.587</td>\n",
       "    </tr>\n",
       "    <tr>\n",
       "      <th>2022-10-18</th>\n",
       "      <td>15.474</td>\n",
       "    </tr>\n",
       "    <tr>\n",
       "      <th>2022-10-17</th>\n",
       "      <td>15.441</td>\n",
       "    </tr>\n",
       "    <tr>\n",
       "      <th>2022-10-14</th>\n",
       "      <td>15.472</td>\n",
       "    </tr>\n",
       "    <tr>\n",
       "      <th>2022-10-13</th>\n",
       "      <td>15.372</td>\n",
       "    </tr>\n",
       "  </tbody>\n",
       "</table>\n",
       "<p>128 rows × 1 columns</p>\n",
       "</div>"
      ],
      "text/plain": [
       "            Dolar to Rupiah\n",
       "Date                       \n",
       "2023-04-10           14.950\n",
       "2023-04-07           14.941\n",
       "2023-04-06           14.931\n",
       "2023-04-05           14.960\n",
       "2023-04-04           14.957\n",
       "...                     ...\n",
       "2022-10-19           15.587\n",
       "2022-10-18           15.474\n",
       "2022-10-17           15.441\n",
       "2022-10-14           15.472\n",
       "2022-10-13           15.372\n",
       "\n",
       "[128 rows x 1 columns]"
      ]
     },
     "execution_count": 70,
     "metadata": {},
     "output_type": "execute_result"
    }
   ],
   "source": [
    "exchange_rate = df.set_index('Date')\n",
    "exchange_rate"
   ]
  },
  {
   "cell_type": "markdown",
   "metadata": {},
   "source": [
    "Because the data is time series, date by date must exist and have the value, so data must be completed first"
   ]
  },
  {
   "cell_type": "code",
   "execution_count": 71,
   "metadata": {},
   "outputs": [
    {
     "data": {
      "text/html": [
       "<div>\n",
       "<style scoped>\n",
       "    .dataframe tbody tr th:only-of-type {\n",
       "        vertical-align: middle;\n",
       "    }\n",
       "\n",
       "    .dataframe tbody tr th {\n",
       "        vertical-align: top;\n",
       "    }\n",
       "\n",
       "    .dataframe thead th {\n",
       "        text-align: right;\n",
       "    }\n",
       "</style>\n",
       "<table border=\"1\" class=\"dataframe\">\n",
       "  <thead>\n",
       "    <tr style=\"text-align: right;\">\n",
       "      <th></th>\n",
       "      <th>Dolar to Rupiah</th>\n",
       "    </tr>\n",
       "  </thead>\n",
       "  <tbody>\n",
       "    <tr>\n",
       "      <th>2022-10-12</th>\n",
       "      <td>NaN</td>\n",
       "    </tr>\n",
       "    <tr>\n",
       "      <th>2022-10-13</th>\n",
       "      <td>15.372</td>\n",
       "    </tr>\n",
       "    <tr>\n",
       "      <th>2022-10-14</th>\n",
       "      <td>15.472</td>\n",
       "    </tr>\n",
       "    <tr>\n",
       "      <th>2022-10-15</th>\n",
       "      <td>NaN</td>\n",
       "    </tr>\n",
       "    <tr>\n",
       "      <th>2022-10-16</th>\n",
       "      <td>NaN</td>\n",
       "    </tr>\n",
       "    <tr>\n",
       "      <th>...</th>\n",
       "      <td>...</td>\n",
       "    </tr>\n",
       "    <tr>\n",
       "      <th>2023-04-03</th>\n",
       "      <td>14.922</td>\n",
       "    </tr>\n",
       "    <tr>\n",
       "      <th>2023-04-04</th>\n",
       "      <td>14.957</td>\n",
       "    </tr>\n",
       "    <tr>\n",
       "      <th>2023-04-05</th>\n",
       "      <td>14.960</td>\n",
       "    </tr>\n",
       "    <tr>\n",
       "      <th>2023-04-06</th>\n",
       "      <td>14.931</td>\n",
       "    </tr>\n",
       "    <tr>\n",
       "      <th>2023-04-07</th>\n",
       "      <td>14.941</td>\n",
       "    </tr>\n",
       "  </tbody>\n",
       "</table>\n",
       "<p>178 rows × 1 columns</p>\n",
       "</div>"
      ],
      "text/plain": [
       "            Dolar to Rupiah\n",
       "2022-10-12              NaN\n",
       "2022-10-13           15.372\n",
       "2022-10-14           15.472\n",
       "2022-10-15              NaN\n",
       "2022-10-16              NaN\n",
       "...                     ...\n",
       "2023-04-03           14.922\n",
       "2023-04-04           14.957\n",
       "2023-04-05           14.960\n",
       "2023-04-06           14.931\n",
       "2023-04-07           14.941\n",
       "\n",
       "[178 rows x 1 columns]"
      ]
     },
     "execution_count": 71,
     "metadata": {},
     "output_type": "execute_result"
    }
   ],
   "source": [
    "# re-indexing according to 'Da' on the website, from 12-October-2022 to 7-April-2023\n",
    "\n",
    "periode = pd.date_range(start= '2022-10-12', end = '2023-04-07')\n",
    "exchange_rate = exchange_rate.reindex(periode)\n",
    "exchange_rate"
   ]
  },
  {
   "cell_type": "code",
   "execution_count": 72,
   "metadata": {},
   "outputs": [
    {
     "data": {
      "text/plain": [
       "Dolar to Rupiah    51\n",
       "dtype: int64"
      ]
     },
     "execution_count": 72,
     "metadata": {},
     "output_type": "execute_result"
    }
   ],
   "source": [
    "# missing value check\n",
    "exchange_rate.isna().sum()"
   ]
  },
  {
   "cell_type": "markdown",
   "metadata": {},
   "source": [
    "There are 50 days whose value is not available so it is filled in using the ffill and bffill methods"
   ]
  },
  {
   "cell_type": "code",
   "execution_count": 73,
   "metadata": {},
   "outputs": [
    {
     "data": {
      "text/html": [
       "<div>\n",
       "<style scoped>\n",
       "    .dataframe tbody tr th:only-of-type {\n",
       "        vertical-align: middle;\n",
       "    }\n",
       "\n",
       "    .dataframe tbody tr th {\n",
       "        vertical-align: top;\n",
       "    }\n",
       "\n",
       "    .dataframe thead th {\n",
       "        text-align: right;\n",
       "    }\n",
       "</style>\n",
       "<table border=\"1\" class=\"dataframe\">\n",
       "  <thead>\n",
       "    <tr style=\"text-align: right;\">\n",
       "      <th></th>\n",
       "      <th>Dolar to Rupiah</th>\n",
       "    </tr>\n",
       "  </thead>\n",
       "  <tbody>\n",
       "    <tr>\n",
       "      <th>2022-10-12</th>\n",
       "      <td>15.372</td>\n",
       "    </tr>\n",
       "    <tr>\n",
       "      <th>2022-10-13</th>\n",
       "      <td>15.372</td>\n",
       "    </tr>\n",
       "    <tr>\n",
       "      <th>2022-10-14</th>\n",
       "      <td>15.472</td>\n",
       "    </tr>\n",
       "    <tr>\n",
       "      <th>2022-10-15</th>\n",
       "      <td>15.472</td>\n",
       "    </tr>\n",
       "    <tr>\n",
       "      <th>2022-10-16</th>\n",
       "      <td>15.472</td>\n",
       "    </tr>\n",
       "    <tr>\n",
       "      <th>...</th>\n",
       "      <td>...</td>\n",
       "    </tr>\n",
       "    <tr>\n",
       "      <th>2023-04-03</th>\n",
       "      <td>14.922</td>\n",
       "    </tr>\n",
       "    <tr>\n",
       "      <th>2023-04-04</th>\n",
       "      <td>14.957</td>\n",
       "    </tr>\n",
       "    <tr>\n",
       "      <th>2023-04-05</th>\n",
       "      <td>14.960</td>\n",
       "    </tr>\n",
       "    <tr>\n",
       "      <th>2023-04-06</th>\n",
       "      <td>14.931</td>\n",
       "    </tr>\n",
       "    <tr>\n",
       "      <th>2023-04-07</th>\n",
       "      <td>14.941</td>\n",
       "    </tr>\n",
       "  </tbody>\n",
       "</table>\n",
       "<p>178 rows × 1 columns</p>\n",
       "</div>"
      ],
      "text/plain": [
       "            Dolar to Rupiah\n",
       "2022-10-12           15.372\n",
       "2022-10-13           15.372\n",
       "2022-10-14           15.472\n",
       "2022-10-15           15.472\n",
       "2022-10-16           15.472\n",
       "...                     ...\n",
       "2023-04-03           14.922\n",
       "2023-04-04           14.957\n",
       "2023-04-05           14.960\n",
       "2023-04-06           14.931\n",
       "2023-04-07           14.941\n",
       "\n",
       "[178 rows x 1 columns]"
      ]
     },
     "execution_count": 73,
     "metadata": {},
     "output_type": "execute_result"
    }
   ],
   "source": [
    "exchange_rate = exchange_rate.ffill().bfill()\n",
    "exchange_rate"
   ]
  },
  {
   "cell_type": "code",
   "execution_count": 74,
   "metadata": {
    "scrolled": true
   },
   "outputs": [
    {
     "data": {
      "text/plain": [
       "Dolar to Rupiah    0\n",
       "dtype: int64"
      ]
     },
     "execution_count": 74,
     "metadata": {},
     "output_type": "execute_result"
    }
   ],
   "source": [
    "# after filling in the value so that there are no empty days\n",
    "exchange_rate.isna().sum()"
   ]
  },
  {
   "cell_type": "markdown",
   "metadata": {},
   "source": [
    "Data visualisation (please change this markdown with your explanation of what you do for data wrangling)"
   ]
  },
  {
   "cell_type": "markdown",
   "metadata": {},
   "source": [
    "Because in this case the data is in the form of a time series taken for 6 months, starting from 12-October-2022 to 7-April-2023 but some of the dates have values that are not available so EDA is carried out using the `ffill()`and `bfill()` method to complete the values on empty dates (weekends) so that there are no *missing values* anymore, but before that adjust the data type fisrts so that it can be processed further. In addition, Wrangling Data is done by changing the Date column to index. After the data is ready, visualization of the data is carried out to see the historical value of the US Dollar to IDR Rupiah exchange rate using a line plot."
   ]
  },
  {
   "cell_type": "markdown",
   "metadata": {},
   "source": [
    "### Implementing your webscrapping to the flask dashboard\n",
    "\n",
    "- Copy paste all of your web scrapping process to the desired position on the `app.py`\n",
    "- Changing the title of the dasboard at `index.html`"
   ]
  },
  {
   "cell_type": "markdown",
   "metadata": {},
   "source": [
    "## Finishing This Notebook with Your Analysis and Conclusion\n",
    "\n",
    "First you can do start with making the data visualisation. "
   ]
  },
  {
   "cell_type": "code",
   "execution_count": 75,
   "metadata": {
    "ExecuteTime": {
     "end_time": "2020-01-13T05:20:56.208237Z",
     "start_time": "2020-01-13T05:20:56.076043Z"
    },
    "scrolled": false
   },
   "outputs": [
    {
     "data": {
      "text/plain": [
       "<AxesSubplot:title={'center':'Exchange Rate Historical 12-October-2022 to 7-April-2023'}>"
      ]
     },
     "execution_count": 75,
     "metadata": {},
     "output_type": "execute_result"
    },
    {
     "data": {
      "image/png": "[encoded data removed]",
      "text/plain": [
       "<Figure size 640x480 with 1 Axes>"
      ]
     },
     "metadata": {},
     "output_type": "display_data"
    }
   ],
   "source": [
    "exchange_rate.plot(kind = 'line', title ='Exchange Rate Historical 12-October-2022 to 7-April-2023')"
   ]
  },
  {
   "cell_type": "markdown",
   "metadata": {},
   "source": [
    "From the plot visualization above it can be concluded that:\n",
    "- Initially when in 2022 the exchange rate has a very high value, but in 2023 the exchange rate has decreased.\n",
    "- Drastic decline occurred in January 2023.\n",
    "- From February 2023 to March 2023 the exchange rate fluctuated untill from March to April it almost decreased.\n",
    "- the 2022 exchange rate is greater than the 2023 exchange rate.\n",
    "- the lowest exchange rates value in February 2023.\n",
    "- the highest exchange rates in November and December 2022."
   ]
  },
  {
   "cell_type": "markdown",
   "metadata": {},
   "source": [
    "### Implement it at the webapps\n",
    "\n",
    "- You can create additional analysis from the data.\n",
    "- Implement it to the dashboard with at `app.py` dan `index.html`."
   ]
  }
 ],
 "metadata": {
  "kernelspec": {
   "display_name": "capstone_vulcan",
   "language": "python",
   "name": "capstone_vulcan"
  },
  "language_info": {
   "codemirror_mode": {
    "name": "ipython",
    "version": 3
   },
   "file_extension": ".py",
   "mimetype": "text/x-python",
   "name": "python",
   "nbconvert_exporter": "python",
   "pygments_lexer": "ipython3",
   "version": "3.10.10"
  }
 },
 "nbformat": 4,
 "nbformat_minor": 2
}
